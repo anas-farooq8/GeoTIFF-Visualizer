{
 "cells": [
  {
   "cell_type": "code",
   "execution_count": null,
   "metadata": {},
   "outputs": [],
   "source": [
    "import sys\n",
    "import numpy as np\n",
    "from osgeo import gdal\n",
    "import matplotlib.pyplot as plt\n",
    "from PyQt5.QtWidgets import (\n",
    "    QApplication, QLabel, QMainWindow, QVBoxLayout, QWidget,\n",
    "    QLineEdit, QPushButton, QHBoxLayout, QScrollArea\n",
    ")\n",
    "from PyQt5.QtGui import QPixmap, QImage, QPainter, QColor, QPen\n",
    "from PyQt5.QtCore import Qt, QEvent"
   ]
  },
  {
   "cell_type": "code",
   "execution_count": null,
   "metadata": {},
   "outputs": [],
   "source": [
    "# Load the GeoTIFF file\n",
    "file_path = \"/kaggle/input/geotiff/testGeoTiff.tif\"\n",
    "dataset = gdal.Open(file_path)\n",
    "\n",
    "# Get and display image resolution (width and height)\n",
    "cols = dataset.RasterXSize\n",
    "rows = dataset.RasterYSize\n",
    "print(\"Image Resolution: {} x {}\".format(cols, rows))\n",
    "\n",
    "# Get and display number of bands\n",
    "num_bands = dataset.RasterCount\n",
    "print(\"Number of Bands:\", num_bands)\n",
    "\n",
    "# Read the first three bands (assuming an RGB composite)\n",
    "band1 = dataset.GetRasterBand(1).ReadAsArray()\n",
    "band2 = dataset.GetRasterBand(2).ReadAsArray()\n",
    "band3 = dataset.GetRasterBand(3).ReadAsArray()\n",
    "\n",
    "# Stack the bands into an RGB image\n",
    "rgb_image = np.dstack((band1, band2, band3))\n",
    "\n",
    "# Display the image inline\n",
    "plt.figure(figsize=(10, 10))\n",
    "plt.imshow(rgb_image)\n",
    "plt.title(\"Landsat Image\")\n",
    "plt.axis(\"off\")\n",
    "plt.show()"
   ]
  },
  {
   "cell_type": "code",
   "execution_count": null,
   "metadata": {},
   "outputs": [],
   "source": []
  }
 ],
 "metadata": {
  "language_info": {
   "name": "python"
  }
 },
 "nbformat": 4,
 "nbformat_minor": 2
}
